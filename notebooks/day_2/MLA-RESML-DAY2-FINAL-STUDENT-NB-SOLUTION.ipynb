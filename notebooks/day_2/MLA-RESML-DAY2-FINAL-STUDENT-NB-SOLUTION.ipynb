{
 "cells": [
  {
   "cell_type": "markdown",
   "metadata": {},
   "source": [
    "![MLU Logo](../../data/MLU_Logo.png)"
   ]
  },
  {
   "cell_type": "markdown",
   "metadata": {},
   "source": [
    "# <a name=\"0\">Responsible AI - Final Project Solution</a>\n",
    "\n",
    "Build a fair [LogisticRegression](https://scikit-learn.org/stable/modules/generated/sklearn.linear_model.LogisticRegression.html) that predicts the __credit_risk__ field (whether some is a credit risk or not) of the [German Credit Dataset](https://archive.ics.uci.edu/ml/datasets/South+German+Credit+%28UPDATE%29).\n",
    "\n",
    "### Final Project Problem: Loan Approval\n",
    "\n",
    "__Problem Definition:__\n",
    "Given a set of features about an individual (e.g. age, past credit history, immigration status, ...) predict whether a loan is repaid or not (is customer a credit risk). We impose the additional constraint that the model should be fair with respect to different age groups ($\\geq$ 25 yrs and $<$ 25 yrs).\n",
    "\n",
    "In the banking industry, there are certain regulations regarding the use of sensitive features (e.g., age, ethnicity, marital status, ...). According to those regulations, it would not be okay if age played a significant role in the model (loans should be approved/denied regardless of an individuals' age).\n",
    "\n",
    "\n",
    "``` \n",
    "F. Kamiran and T. Calders, \"Data Preprocessing Techniques for Classification without Discrimination,\" Knowledge and Information Systems, 2012\n",
    "```\n",
    "\n",
    "1. <a href=\"#1\">Read the datasets</a> (Given) \n",
    "2. <a href=\"#2\">Data Processing</a> (Implement)\n",
    "    * <a href=\"#21\">Exploratory Data Analysis</a>\n",
    "    * <a href=\"#22\">Select features to build the model</a> (Suggested)\n",
    "    * <a href=\"#23\">Train - Validation - Test Datasets</a>\n",
    "    * <a href=\"#24\">Feature transformation</a>\n",
    "3. <a href=\"#3\">Train a Classifier on the Training Dataset</a> (Implement)\n",
    "4. <a href=\"#4\">Make Predictions on the Test Dataset</a> (Implement)\n",
    "5. <a href=\"#5\">Evaluate Results</a> (Given)\n",
    "\n",
    "\n",
    "__Datasets and Files:__\n",
    "\n",
    "\n",
    "- ```german_credit_training.csv```: Training data with loan applicants features, credit history, dependents, savings, account status, age group (and more). The label is __credit_risk__.\n",
    "\n",
    "- ```german_credit_test.csv```: Test data with same features as above apart from label. This will be the data to make predictions for to emulate a production environment."
   ]
  },
  {
   "cell_type": "markdown",
   "metadata": {},
   "source": [
    "This notebook assumes an installation of the SageMaker kernel `conda_pytorch_p39`. In addition, libraries from a requirements.txt need to be installed:"
   ]
  },
  {
   "cell_type": "code",
   "execution_count": 1,
   "metadata": {
    "tags": []
   },
   "outputs": [],
   "source": [
    "!pip install --no-deps -U -q -r ../../requirements.txt"
   ]
  },
  {
   "cell_type": "code",
   "execution_count": null,
   "metadata": {
    "tags": []
   },
   "outputs": [],
   "source": [
    "%%capture\n",
    "\n",
    "# Reshaping/basic libraries\n",
    "import pandas as pd\n",
    "import numpy as np\n",
    "\n",
    "# Plotting libraries\n",
    "import matplotlib.pyplot as plt\n",
    "import seaborn as sns\n",
    "\n",
    "sns.set_style(\"darkgrid\", {\"axes.facecolor\": \".9\"})\n",
    "\n",
    "# ML libraries\n",
    "from sklearn.model_selection import train_test_split\n",
    "from sklearn.metrics import confusion_matrix, accuracy_score, f1_score\n",
    "from sklearn.impute import SimpleImputer\n",
    "from sklearn.preprocessing import OneHotEncoder, MinMaxScaler\n",
    "from sklearn.pipeline import Pipeline\n",
    "from sklearn.compose import ColumnTransformer\n",
    "from sklearn.linear_model import LogisticRegression\n",
    "\n",
    "# Fairness libraries\n",
    "from folktables.acs import *\n",
    "from folktables.folktables import *\n",
    "from folktables.load_acs import *\n",
    "from aif360.datasets import BinaryLabelDataset, Dataset\n",
    "from aif360.metrics import BinaryLabelDatasetMetric\n",
    "from aif360.algorithms.preprocessing import DisparateImpactRemover\n",
    "\n",
    "# Operational libraries\n",
    "import sys\n",
    "\n",
    "sys.path.append(\"..\")\n",
    "\n",
    "# Jupyter(lab) libraries\n",
    "import warnings\n",
    "\n",
    "warnings.filterwarnings(\"ignore\")"
   ]
  },
  {
   "cell_type": "markdown",
   "metadata": {},
   "source": [
    "## 1. <a name=\"1\">Read the datasets</a> (Given)\n",
    "(<a href=\"#0\">Go to top</a>)"
   ]
  },
  {
   "cell_type": "markdown",
   "metadata": {},
   "source": [
    "Then, we read the __training__ and __test__ datasets into dataframes, using [Pandas](https://pandas.pydata.org/pandas-docs/stable/user_guide/10min.html). This library allows us to read and manipulate our data."
   ]
  },
  {
   "cell_type": "code",
   "execution_count": 3,
   "metadata": {
    "tags": []
   },
   "outputs": [
    {
     "name": "stdout",
     "output_type": "stream",
     "text": [
      "The shape of the training dataset is: (800, 24)\n",
      "The shape of the test dataset is: (200, 23)\n"
     ]
    }
   ],
   "source": [
    "training_data = pd.read_csv(\"../../data/final_project/german_credit_training.csv\")\n",
    "test_data = pd.read_csv(\"../../data/final_project/german_credit_test.csv\")\n",
    "\n",
    "print(\"The shape of the training dataset is:\", training_data.shape)\n",
    "print(\"The shape of the test dataset is:\", test_data.shape)"
   ]
  },
  {
   "cell_type": "markdown",
   "metadata": {},
   "source": [
    "## 2. <a name=\"2\">Data Processing</a> (Implement)\n",
    "(<a href=\"#0\">Go to top</a>) "
   ]
  },
  {
   "cell_type": "markdown",
   "metadata": {},
   "source": [
    "### 2.1 <a name=\"21\">Exploratory Data Analysis</a>\n",
    "(<a href=\"#2\">Go to Data Processing</a>)\n",
    "\n",
    "We look at number of rows, columns, and some simple statistics of the datasets."
   ]
  },
  {
   "cell_type": "code",
   "execution_count": 4,
   "metadata": {
    "tags": []
   },
   "outputs": [
    {
     "data": {
      "text/html": [
       "<div>\n",
       "<style scoped>\n",
       "    .dataframe tbody tr th:only-of-type {\n",
       "        vertical-align: middle;\n",
       "    }\n",
       "\n",
       "    .dataframe tbody tr th {\n",
       "        vertical-align: top;\n",
       "    }\n",
       "\n",
       "    .dataframe thead th {\n",
       "        text-align: right;\n",
       "    }\n",
       "</style>\n",
       "<table border=\"1\" class=\"dataframe\">\n",
       "  <thead>\n",
       "    <tr style=\"text-align: right;\">\n",
       "      <th></th>\n",
       "      <th>ID</th>\n",
       "      <th>sex</th>\n",
       "      <th>personal_status</th>\n",
       "      <th>checking_account_status</th>\n",
       "      <th>credit_duration_months</th>\n",
       "      <th>credit_history</th>\n",
       "      <th>credit_purpose</th>\n",
       "      <th>credit_amount</th>\n",
       "      <th>savings</th>\n",
       "      <th>employed_since_years</th>\n",
       "      <th>...</th>\n",
       "      <th>age_years</th>\n",
       "      <th>other_installment_plans</th>\n",
       "      <th>housing</th>\n",
       "      <th>num_existing_credits</th>\n",
       "      <th>job_status</th>\n",
       "      <th>num_people_liable_for</th>\n",
       "      <th>telephone</th>\n",
       "      <th>foreign_worker</th>\n",
       "      <th>credit_risk</th>\n",
       "      <th>age_groups</th>\n",
       "    </tr>\n",
       "  </thead>\n",
       "  <tbody>\n",
       "    <tr>\n",
       "      <th>0</th>\n",
       "      <td>564</td>\n",
       "      <td>male</td>\n",
       "      <td>married/widowed</td>\n",
       "      <td>... &lt; 0 DM</td>\n",
       "      <td>24</td>\n",
       "      <td>existing credits paid back duly till now</td>\n",
       "      <td>retraining</td>\n",
       "      <td>4712</td>\n",
       "      <td>.. &gt;= 1000 DM</td>\n",
       "      <td>1 &lt;= ... &lt; 4 years</td>\n",
       "      <td>...</td>\n",
       "      <td>37</td>\n",
       "      <td>bank</td>\n",
       "      <td>rent</td>\n",
       "      <td>2-3</td>\n",
       "      <td>management/self-employed/highly qualified empl...</td>\n",
       "      <td>0 to 2</td>\n",
       "      <td>True</td>\n",
       "      <td>False</td>\n",
       "      <td>0</td>\n",
       "      <td>1</td>\n",
       "    </tr>\n",
       "    <tr>\n",
       "      <th>1</th>\n",
       "      <td>484</td>\n",
       "      <td>male</td>\n",
       "      <td>married/widowed</td>\n",
       "      <td>... &gt;= 200 DM</td>\n",
       "      <td>12</td>\n",
       "      <td>all credits at this bank paid back duly</td>\n",
       "      <td>others</td>\n",
       "      <td>1163</td>\n",
       "      <td>100 &lt;= ... &lt; 500 DM</td>\n",
       "      <td>1 &lt;= ... &lt; 4 years</td>\n",
       "      <td>...</td>\n",
       "      <td>44</td>\n",
       "      <td>none</td>\n",
       "      <td>rent</td>\n",
       "      <td>1</td>\n",
       "      <td>skilled employee/official</td>\n",
       "      <td>0 to 2</td>\n",
       "      <td>True</td>\n",
       "      <td>False</td>\n",
       "      <td>0</td>\n",
       "      <td>1</td>\n",
       "    </tr>\n",
       "    <tr>\n",
       "      <th>2</th>\n",
       "      <td>26</td>\n",
       "      <td>female</td>\n",
       "      <td>single</td>\n",
       "      <td>... &gt;= 200 DM</td>\n",
       "      <td>6</td>\n",
       "      <td>delay in paying off in the past</td>\n",
       "      <td>furniture/equipment</td>\n",
       "      <td>426</td>\n",
       "      <td>unknown/no savings account</td>\n",
       "      <td>.. &gt;= 7 years</td>\n",
       "      <td>...</td>\n",
       "      <td>39</td>\n",
       "      <td>none</td>\n",
       "      <td>rent</td>\n",
       "      <td>1</td>\n",
       "      <td>unskilled - resident</td>\n",
       "      <td>0 to 2</td>\n",
       "      <td>False</td>\n",
       "      <td>False</td>\n",
       "      <td>0</td>\n",
       "      <td>1</td>\n",
       "    </tr>\n",
       "    <tr>\n",
       "      <th>3</th>\n",
       "      <td>443</td>\n",
       "      <td>male</td>\n",
       "      <td>married/widowed</td>\n",
       "      <td>... &gt;= 200 DM</td>\n",
       "      <td>12</td>\n",
       "      <td>no credits taken/all credits paid back duly</td>\n",
       "      <td>repairs</td>\n",
       "      <td>719</td>\n",
       "      <td>unknown/no savings account</td>\n",
       "      <td>.. &gt;= 7 years</td>\n",
       "      <td>...</td>\n",
       "      <td>41</td>\n",
       "      <td>bank</td>\n",
       "      <td>rent</td>\n",
       "      <td>1</td>\n",
       "      <td>unskilled - resident</td>\n",
       "      <td>3 or more</td>\n",
       "      <td>False</td>\n",
       "      <td>False</td>\n",
       "      <td>1</td>\n",
       "      <td>1</td>\n",
       "    </tr>\n",
       "    <tr>\n",
       "      <th>4</th>\n",
       "      <td>211</td>\n",
       "      <td>female/male</td>\n",
       "      <td>female (non-single) or male (single)</td>\n",
       "      <td>... &gt;= 200 DM</td>\n",
       "      <td>36</td>\n",
       "      <td>no credits taken/all credits paid back duly</td>\n",
       "      <td>furniture/equipment</td>\n",
       "      <td>3835</td>\n",
       "      <td>.. &gt;= 1000 DM</td>\n",
       "      <td>.. &gt;= 7 years</td>\n",
       "      <td>...</td>\n",
       "      <td>45</td>\n",
       "      <td>none</td>\n",
       "      <td>rent</td>\n",
       "      <td>1</td>\n",
       "      <td>unskilled - resident</td>\n",
       "      <td>0 to 2</td>\n",
       "      <td>True</td>\n",
       "      <td>False</td>\n",
       "      <td>0</td>\n",
       "      <td>1</td>\n",
       "    </tr>\n",
       "  </tbody>\n",
       "</table>\n",
       "<p>5 rows × 24 columns</p>\n",
       "</div>"
      ],
      "text/plain": [
       "    ID          sex                       personal_status  \\\n",
       "0  564         male                       married/widowed   \n",
       "1  484         male                       married/widowed   \n",
       "2   26       female                                single   \n",
       "3  443         male                       married/widowed   \n",
       "4  211  female/male  female (non-single) or male (single)   \n",
       "\n",
       "  checking_account_status  credit_duration_months  \\\n",
       "0              ... < 0 DM                      24   \n",
       "1           ... >= 200 DM                      12   \n",
       "2           ... >= 200 DM                       6   \n",
       "3           ... >= 200 DM                      12   \n",
       "4           ... >= 200 DM                      36   \n",
       "\n",
       "                                credit_history       credit_purpose  \\\n",
       "0     existing credits paid back duly till now           retraining   \n",
       "1      all credits at this bank paid back duly               others   \n",
       "2              delay in paying off in the past  furniture/equipment   \n",
       "3  no credits taken/all credits paid back duly              repairs   \n",
       "4  no credits taken/all credits paid back duly  furniture/equipment   \n",
       "\n",
       "   credit_amount                     savings employed_since_years  ...  \\\n",
       "0           4712               .. >= 1000 DM   1 <= ... < 4 years  ...   \n",
       "1           1163         100 <= ... < 500 DM   1 <= ... < 4 years  ...   \n",
       "2            426  unknown/no savings account        .. >= 7 years  ...   \n",
       "3            719  unknown/no savings account        .. >= 7 years  ...   \n",
       "4           3835               .. >= 1000 DM        .. >= 7 years  ...   \n",
       "\n",
       "  age_years other_installment_plans housing num_existing_credits  \\\n",
       "0        37                    bank    rent                  2-3   \n",
       "1        44                    none    rent                    1   \n",
       "2        39                    none    rent                    1   \n",
       "3        41                    bank    rent                    1   \n",
       "4        45                    none    rent                    1   \n",
       "\n",
       "                                          job_status num_people_liable_for  \\\n",
       "0  management/self-employed/highly qualified empl...                0 to 2   \n",
       "1                          skilled employee/official                0 to 2   \n",
       "2                               unskilled - resident                0 to 2   \n",
       "3                               unskilled - resident             3 or more   \n",
       "4                               unskilled - resident                0 to 2   \n",
       "\n",
       "  telephone foreign_worker credit_risk age_groups  \n",
       "0      True          False           0          1  \n",
       "1      True          False           0          1  \n",
       "2     False          False           0          1  \n",
       "3     False          False           1          1  \n",
       "4      True          False           0          1  \n",
       "\n",
       "[5 rows x 24 columns]"
      ]
     },
     "execution_count": 4,
     "metadata": {},
     "output_type": "execute_result"
    }
   ],
   "source": [
    "training_data.head()"
   ]
  },
  {
   "cell_type": "code",
   "execution_count": 5,
   "metadata": {
    "tags": []
   },
   "outputs": [
    {
     "data": {
      "text/html": [
       "<div>\n",
       "<style scoped>\n",
       "    .dataframe tbody tr th:only-of-type {\n",
       "        vertical-align: middle;\n",
       "    }\n",
       "\n",
       "    .dataframe tbody tr th {\n",
       "        vertical-align: top;\n",
       "    }\n",
       "\n",
       "    .dataframe thead th {\n",
       "        text-align: right;\n",
       "    }\n",
       "</style>\n",
       "<table border=\"1\" class=\"dataframe\">\n",
       "  <thead>\n",
       "    <tr style=\"text-align: right;\">\n",
       "      <th></th>\n",
       "      <th>ID</th>\n",
       "      <th>sex</th>\n",
       "      <th>personal_status</th>\n",
       "      <th>checking_account_status</th>\n",
       "      <th>credit_duration_months</th>\n",
       "      <th>credit_history</th>\n",
       "      <th>credit_purpose</th>\n",
       "      <th>credit_amount</th>\n",
       "      <th>savings</th>\n",
       "      <th>employed_since_years</th>\n",
       "      <th>...</th>\n",
       "      <th>property</th>\n",
       "      <th>age_years</th>\n",
       "      <th>other_installment_plans</th>\n",
       "      <th>housing</th>\n",
       "      <th>num_existing_credits</th>\n",
       "      <th>job_status</th>\n",
       "      <th>num_people_liable_for</th>\n",
       "      <th>telephone</th>\n",
       "      <th>foreign_worker</th>\n",
       "      <th>age_groups</th>\n",
       "    </tr>\n",
       "  </thead>\n",
       "  <tbody>\n",
       "    <tr>\n",
       "      <th>0</th>\n",
       "      <td>963</td>\n",
       "      <td>male</td>\n",
       "      <td>married/widowed</td>\n",
       "      <td>... &gt;= 200 DM</td>\n",
       "      <td>24</td>\n",
       "      <td>no credits taken/all credits paid back duly</td>\n",
       "      <td>furniture/equipment</td>\n",
       "      <td>2397</td>\n",
       "      <td>100 &lt;= ... &lt; 500 DM</td>\n",
       "      <td>.. &gt;= 7 years</td>\n",
       "      <td>...</td>\n",
       "      <td>building society savings agreement/life insurance</td>\n",
       "      <td>35</td>\n",
       "      <td>bank</td>\n",
       "      <td>rent</td>\n",
       "      <td>2-3</td>\n",
       "      <td>skilled employee/official</td>\n",
       "      <td>0 to 2</td>\n",
       "      <td>True</td>\n",
       "      <td>False</td>\n",
       "      <td>1</td>\n",
       "    </tr>\n",
       "    <tr>\n",
       "      <th>1</th>\n",
       "      <td>611</td>\n",
       "      <td>female/male</td>\n",
       "      <td>female (non-single) or male (single)</td>\n",
       "      <td>0 &lt;= ... &lt; 200 DM</td>\n",
       "      <td>10</td>\n",
       "      <td>no credits taken/all credits paid back duly</td>\n",
       "      <td>others</td>\n",
       "      <td>1240</td>\n",
       "      <td>... &lt; 100 DM</td>\n",
       "      <td>.. &gt;= 7 years</td>\n",
       "      <td>...</td>\n",
       "      <td>real estate</td>\n",
       "      <td>48</td>\n",
       "      <td>none</td>\n",
       "      <td>own</td>\n",
       "      <td>1</td>\n",
       "      <td>unskilled - resident</td>\n",
       "      <td>3 or more</td>\n",
       "      <td>False</td>\n",
       "      <td>False</td>\n",
       "      <td>1</td>\n",
       "    </tr>\n",
       "    <tr>\n",
       "      <th>2</th>\n",
       "      <td>106</td>\n",
       "      <td>male</td>\n",
       "      <td>married/widowed</td>\n",
       "      <td>... &gt;= 200 DM</td>\n",
       "      <td>18</td>\n",
       "      <td>critical account/other credits existing (not a...</td>\n",
       "      <td>others</td>\n",
       "      <td>6458</td>\n",
       "      <td>unknown/no savings account</td>\n",
       "      <td>.. &gt;= 7 years</td>\n",
       "      <td>...</td>\n",
       "      <td>real estate</td>\n",
       "      <td>39</td>\n",
       "      <td>bank</td>\n",
       "      <td>rent</td>\n",
       "      <td>2-3</td>\n",
       "      <td>management/self-employed/highly qualified empl...</td>\n",
       "      <td>3 or more</td>\n",
       "      <td>True</td>\n",
       "      <td>False</td>\n",
       "      <td>1</td>\n",
       "    </tr>\n",
       "    <tr>\n",
       "      <th>3</th>\n",
       "      <td>891</td>\n",
       "      <td>male</td>\n",
       "      <td>married/widowed</td>\n",
       "      <td>... &gt;= 200 DM</td>\n",
       "      <td>15</td>\n",
       "      <td>all credits at this bank paid back duly</td>\n",
       "      <td>furniture/equipment</td>\n",
       "      <td>1829</td>\n",
       "      <td>unknown/no savings account</td>\n",
       "      <td>.. &gt;= 7 years</td>\n",
       "      <td>...</td>\n",
       "      <td>building society savings agreement/life insurance</td>\n",
       "      <td>46</td>\n",
       "      <td>none</td>\n",
       "      <td>rent</td>\n",
       "      <td>2-3</td>\n",
       "      <td>skilled employee/official</td>\n",
       "      <td>0 to 2</td>\n",
       "      <td>True</td>\n",
       "      <td>False</td>\n",
       "      <td>1</td>\n",
       "    </tr>\n",
       "    <tr>\n",
       "      <th>4</th>\n",
       "      <td>342</td>\n",
       "      <td>female</td>\n",
       "      <td>single</td>\n",
       "      <td>... &lt; 0 DM</td>\n",
       "      <td>18</td>\n",
       "      <td>no credits taken/all credits paid back duly</td>\n",
       "      <td>furniture/equipment</td>\n",
       "      <td>3213</td>\n",
       "      <td>100 &lt;= ... &lt; 500 DM</td>\n",
       "      <td>... &lt; 1 year</td>\n",
       "      <td>...</td>\n",
       "      <td>unknown/no property</td>\n",
       "      <td>25</td>\n",
       "      <td>none</td>\n",
       "      <td>for free</td>\n",
       "      <td>1</td>\n",
       "      <td>skilled employee/official</td>\n",
       "      <td>0 to 2</td>\n",
       "      <td>False</td>\n",
       "      <td>False</td>\n",
       "      <td>1</td>\n",
       "    </tr>\n",
       "  </tbody>\n",
       "</table>\n",
       "<p>5 rows × 23 columns</p>\n",
       "</div>"
      ],
      "text/plain": [
       "    ID          sex                       personal_status  \\\n",
       "0  963         male                       married/widowed   \n",
       "1  611  female/male  female (non-single) or male (single)   \n",
       "2  106         male                       married/widowed   \n",
       "3  891         male                       married/widowed   \n",
       "4  342       female                                single   \n",
       "\n",
       "  checking_account_status  credit_duration_months  \\\n",
       "0           ... >= 200 DM                      24   \n",
       "1       0 <= ... < 200 DM                      10   \n",
       "2           ... >= 200 DM                      18   \n",
       "3           ... >= 200 DM                      15   \n",
       "4              ... < 0 DM                      18   \n",
       "\n",
       "                                      credit_history       credit_purpose  \\\n",
       "0        no credits taken/all credits paid back duly  furniture/equipment   \n",
       "1        no credits taken/all credits paid back duly               others   \n",
       "2  critical account/other credits existing (not a...               others   \n",
       "3            all credits at this bank paid back duly  furniture/equipment   \n",
       "4        no credits taken/all credits paid back duly  furniture/equipment   \n",
       "\n",
       "   credit_amount                     savings employed_since_years  ...  \\\n",
       "0           2397         100 <= ... < 500 DM        .. >= 7 years  ...   \n",
       "1           1240                ... < 100 DM        .. >= 7 years  ...   \n",
       "2           6458  unknown/no savings account        .. >= 7 years  ...   \n",
       "3           1829  unknown/no savings account        .. >= 7 years  ...   \n",
       "4           3213         100 <= ... < 500 DM         ... < 1 year  ...   \n",
       "\n",
       "                                            property age_years  \\\n",
       "0  building society savings agreement/life insurance        35   \n",
       "1                                        real estate        48   \n",
       "2                                        real estate        39   \n",
       "3  building society savings agreement/life insurance        46   \n",
       "4                                unknown/no property        25   \n",
       "\n",
       "  other_installment_plans   housing  num_existing_credits  \\\n",
       "0                    bank      rent                   2-3   \n",
       "1                    none       own                     1   \n",
       "2                    bank      rent                   2-3   \n",
       "3                    none      rent                   2-3   \n",
       "4                    none  for free                     1   \n",
       "\n",
       "                                          job_status num_people_liable_for  \\\n",
       "0                          skilled employee/official                0 to 2   \n",
       "1                               unskilled - resident             3 or more   \n",
       "2  management/self-employed/highly qualified empl...             3 or more   \n",
       "3                          skilled employee/official                0 to 2   \n",
       "4                          skilled employee/official                0 to 2   \n",
       "\n",
       "  telephone foreign_worker age_groups  \n",
       "0      True          False          1  \n",
       "1     False          False          1  \n",
       "2      True          False          1  \n",
       "3      True          False          1  \n",
       "4     False          False          1  \n",
       "\n",
       "[5 rows x 23 columns]"
      ]
     },
     "execution_count": 5,
     "metadata": {},
     "output_type": "execute_result"
    }
   ],
   "source": [
    "test_data.head()"
   ]
  },
  {
   "cell_type": "code",
   "execution_count": 6,
   "metadata": {
    "tags": []
   },
   "outputs": [],
   "source": [
    "# Implement more EDA here"
   ]
  },
  {
   "cell_type": "code",
   "execution_count": 7,
   "metadata": {
    "tags": []
   },
   "outputs": [
    {
     "name": "stdout",
     "output_type": "stream",
     "text": [
      "<class 'pandas.core.frame.DataFrame'>\n",
      "RangeIndex: 800 entries, 0 to 799\n",
      "Data columns (total 24 columns):\n",
      " #   Column                    Non-Null Count  Dtype \n",
      "---  ------                    --------------  ----- \n",
      " 0   ID                        800 non-null    int64 \n",
      " 1   sex                       800 non-null    object\n",
      " 2   personal_status           800 non-null    object\n",
      " 3   checking_account_status   800 non-null    object\n",
      " 4   credit_duration_months    800 non-null    int64 \n",
      " 5   credit_history            800 non-null    object\n",
      " 6   credit_purpose            800 non-null    object\n",
      " 7   credit_amount             800 non-null    int64 \n",
      " 8   savings                   800 non-null    object\n",
      " 9   employed_since_years      800 non-null    object\n",
      " 10  installment_rate          800 non-null    object\n",
      " 11  other_debtors_guarantors  800 non-null    object\n",
      " 12  present_residence_since   800 non-null    object\n",
      " 13  property                  800 non-null    object\n",
      " 14  age_years                 800 non-null    int64 \n",
      " 15  other_installment_plans   800 non-null    object\n",
      " 16  housing                   800 non-null    object\n",
      " 17  num_existing_credits      800 non-null    object\n",
      " 18  job_status                800 non-null    object\n",
      " 19  num_people_liable_for     800 non-null    object\n",
      " 20  telephone                 800 non-null    bool  \n",
      " 21  foreign_worker            800 non-null    bool  \n",
      " 22  credit_risk               800 non-null    int64 \n",
      " 23  age_groups                800 non-null    int64 \n",
      "dtypes: bool(2), int64(6), object(16)\n",
      "memory usage: 139.2+ KB\n"
     ]
    }
   ],
   "source": [
    "training_data.info()"
   ]
  },
  {
   "cell_type": "markdown",
   "metadata": {},
   "source": [
    "### 2.2 <a name=\"22\">Select features to build the model</a> \n",
    "(<a href=\"#2\">Go to Data Processing</a>)\n",
    "\n",
    "Let's use all the features. Below you see a snippet of code that separates categorical and numerical columns based on their data type. This should only be used if we are sure that the data types are correctly assigned (check during EDA). Mindful with some of the feature names - they suggest numerical values but upon inspection it should become clear that they are actually categoricals (e.g. `employed_since_years` has been binned into groups).\n"
   ]
  },
  {
   "cell_type": "code",
   "execution_count": 8,
   "metadata": {
    "tags": []
   },
   "outputs": [
    {
     "name": "stdout",
     "output_type": "stream",
     "text": [
      "Categorical columns: ['sex', 'personal_status', 'checking_account_status', 'credit_history', 'credit_purpose', 'savings', 'employed_since_years', 'installment_rate', 'other_debtors_guarantors', 'present_residence_since', 'property', 'other_installment_plans', 'housing', 'num_existing_credits', 'job_status', 'num_people_liable_for']\n",
      "\n",
      "Numerical columns: ['ID', 'credit_duration_months', 'credit_amount', 'age_years', 'age_groups']\n"
     ]
    }
   ],
   "source": [
    "# Grab model features/inputs and target/output\n",
    "categorical_features = (\n",
    "    training_data.drop(\"credit_risk\", axis=1)\n",
    "    .select_dtypes(include=\"object\")\n",
    "    .columns.tolist()\n",
    ")\n",
    "print(\"Categorical columns:\", categorical_features)\n",
    "\n",
    "print(\"\")\n",
    "\n",
    "numerical_features = (\n",
    "    training_data.drop(\"credit_risk\", axis=1)\n",
    "    .select_dtypes(include=np.number)\n",
    "    .columns.tolist()\n",
    ")\n",
    "print(\"Numerical columns:\", numerical_features)"
   ]
  },
  {
   "cell_type": "markdown",
   "metadata": {},
   "source": [
    "We notice that `ID` is identified as numerical column. ID's should never be used as features for training as they are unique by row. Let's drop the ID from the model features after we have separated target and features:"
   ]
  },
  {
   "cell_type": "code",
   "execution_count": 9,
   "metadata": {
    "tags": []
   },
   "outputs": [
    {
     "name": "stdout",
     "output_type": "stream",
     "text": [
      "Model features:  ['sex', 'personal_status', 'checking_account_status', 'credit_history', 'credit_purpose', 'savings', 'employed_since_years', 'installment_rate', 'other_debtors_guarantors', 'present_residence_since', 'property', 'other_installment_plans', 'housing', 'num_existing_credits', 'job_status', 'num_people_liable_for', 'ID', 'credit_duration_months', 'credit_amount', 'age_years', 'age_groups']\n",
      "\n",
      "\n",
      "Model target:  credit_risk\n"
     ]
    }
   ],
   "source": [
    "model_target = \"credit_risk\"\n",
    "model_features = categorical_features + numerical_features\n",
    "\n",
    "print(\"Model features: \", model_features)\n",
    "print(\"\\n\")\n",
    "print(\"Model target: \", model_target)"
   ]
  },
  {
   "cell_type": "code",
   "execution_count": 10,
   "metadata": {
    "tags": []
   },
   "outputs": [],
   "source": [
    "to_remove = \"ID\"\n",
    "\n",
    "# Drop 'ID' feature from the respective list(s)\n",
    "if to_remove in model_features:\n",
    "    model_features.remove(to_remove)\n",
    "if to_remove in categorical_features:\n",
    "    categorical_features.remove(to_remove)\n",
    "if to_remove in numerical_features:\n",
    "    numerical_features.remove(to_remove)"
   ]
  },
  {
   "cell_type": "markdown",
   "metadata": {},
   "source": [
    "Let's also remove `age_years` as this is an obvious proxy for the age groups."
   ]
  },
  {
   "cell_type": "code",
   "execution_count": 11,
   "metadata": {},
   "outputs": [],
   "source": [
    "to_remove = \"age_years\"\n",
    "\n",
    "# Drop 'ID' feature from the respective list(s)\n",
    "if to_remove in model_features:\n",
    "    model_features.remove(to_remove)\n",
    "if to_remove in categorical_features:\n",
    "    categorical_features.remove(to_remove)\n",
    "if to_remove in numerical_features:\n",
    "    numerical_features.remove(to_remove)"
   ]
  },
  {
   "cell_type": "markdown",
   "metadata": {},
   "source": [
    "### 2.3 <a name=\"23\">Train - Validation Datasets</a>\n",
    "(<a href=\"#2\">Go to Data Processing</a>)\n",
    "\n",
    "We already have training and test datasets, but no validation dataset (which you need to create). Furthermore, the test dataset is missing the labels - the goal of the project is to predict these labels. \n",
    "\n",
    "To produce a validation set to evaluate model performance, split the training dataset into train and validation subsets using sklearn's [train_test_split()](https://scikit-learn.org/stable/modules/generated/sklearn.model_selection.train_test_split.html) function. "
   ]
  },
  {
   "cell_type": "code",
   "execution_count": 12,
   "metadata": {
    "tags": []
   },
   "outputs": [],
   "source": [
    "# Implement here"
   ]
  },
  {
   "cell_type": "code",
   "execution_count": 13,
   "metadata": {
    "tags": []
   },
   "outputs": [
    {
     "name": "stdout",
     "output_type": "stream",
     "text": [
      "Train - Test - Validation datasets shapes:  (720, 24) (200, 23) (80, 24)\n"
     ]
    }
   ],
   "source": [
    "# We only need to split between train and val (test is already separate)\n",
    "train_data, val_data = train_test_split(\n",
    "    training_data, test_size=0.1, shuffle=True, random_state=23\n",
    ")\n",
    "\n",
    "# Print the shapes of the Train - Test Datasets\n",
    "print(\n",
    "    \"Train - Test - Validation datasets shapes: \",\n",
    "    train_data.shape,\n",
    "    test_data.shape,\n",
    "    val_data.shape,\n",
    ")\n",
    "\n",
    "train_data.reset_index(inplace=True, drop=True)\n",
    "val_data.reset_index(inplace=True, drop=True)"
   ]
  },
  {
   "cell_type": "markdown",
   "metadata": {},
   "source": [
    "### 2.4 <a name=\"24\">Feature transformation</a>\n",
    "(<a href=\"#2\">Go to Data Processing</a>)\n",
    "\n",
    "Here, you have different options. You can use Reweighing, prepare for Disparate Impact Remover or use Suppression. Regardless of which method to use, it makes sense to prepare the data first by dealing with missing values, one-hot encoding and scaling."
   ]
  },
  {
   "cell_type": "code",
   "execution_count": 14,
   "metadata": {
    "tags": []
   },
   "outputs": [],
   "source": [
    "### STEP 1 ###\n",
    "##############\n",
    "\n",
    "# Preprocess the numerical features\n",
    "numerical_processor = Pipeline(\n",
    "    [(\"num_imputer\", SimpleImputer(strategy=\"mean\")), (\"num_scaler\", MinMaxScaler())]\n",
    ")\n",
    "# Preprocess the categorical features\n",
    "categorical_processor = Pipeline(\n",
    "    [\n",
    "        (\"cat_imputer\", SimpleImputer(strategy=\"constant\", fill_value=\"missing\")),\n",
    "        (\"cat_encoder\", OneHotEncoder(handle_unknown=\"ignore\")),\n",
    "    ]\n",
    ")\n",
    "\n",
    "### STEP 2 ###\n",
    "##############\n",
    "\n",
    "# Combine all data preprocessors from above\n",
    "data_processor = ColumnTransformer(\n",
    "    [\n",
    "        (\"numerical_processing\", numerical_processor, numerical_features),\n",
    "        (\"categorical_processing\", categorical_processor, categorical_features),\n",
    "    ]\n",
    ")\n",
    "\n",
    "### STEP 3 ###\n",
    "##############\n",
    "\n",
    "# Fit the dataprocessor to our training data and apply transform to test data\n",
    "processed_train = data_processor.fit_transform(train_data[model_features])\n",
    "processed_test = data_processor.transform(test_data)"
   ]
  },
  {
   "cell_type": "markdown",
   "metadata": {},
   "source": [
    "#### 2.4.1 DI-Transformation\n",
    "\n",
    "The dataframe you just created will not have any column names for the one-hot encoded categorical features and will also be saved as sparse matrix. If you want to proceed with DI transformation, you need to convert the sparse matrix back to a data frame and also re-create the column names."
   ]
  },
  {
   "cell_type": "code",
   "execution_count": 15,
   "metadata": {},
   "outputs": [],
   "source": [
    "# Implement here"
   ]
  },
  {
   "cell_type": "code",
   "execution_count": 16,
   "metadata": {
    "tags": []
   },
   "outputs": [],
   "source": [
    "# Extract feature names from data processor (we need this as one-hot encoding creates new columns)\n",
    "cat_ft_names = list(\n",
    "    data_processor.transformers_[1][1]\n",
    "    .named_steps[\"cat_encoder\"]\n",
    "    .get_feature_names_out(categorical_features)\n",
    ")\n",
    "\n",
    "# Convert the sparse matrix to a pandas dataframe and name columns\n",
    "processed_train_df = pd.DataFrame.sparse.from_spmatrix(\n",
    "    processed_train, columns=numerical_features + cat_ft_names\n",
    ")\n",
    "\n",
    "# Join label with the transformed dataset so we can pass it to AIF360\n",
    "train_df = pd.concat([processed_train_df, train_data[model_target]], axis=1)"
   ]
  },
  {
   "cell_type": "markdown",
   "metadata": {},
   "source": [
    "As final step for DI transformation you have to create a `BinaryLabelDataset` and also check the DI value of the dataset."
   ]
  },
  {
   "cell_type": "code",
   "execution_count": 17,
   "metadata": {
    "tags": []
   },
   "outputs": [
    {
     "name": "stdout",
     "output_type": "stream",
     "text": [
      "0.8371212121212122\n"
     ]
    }
   ],
   "source": [
    "# Create a Dataset construct for AIF360\n",
    "binaryLabelDataset_train = BinaryLabelDataset(\n",
    "    df=train_df,\n",
    "    label_names=[\"credit_risk\"],\n",
    "    protected_attribute_names=[\"age_groups\"],\n",
    "    favorable_label=0.0,\n",
    "    unfavorable_label=1.0,\n",
    ")\n",
    "\n",
    "# Check pre-training bias\n",
    "print(\n",
    "    BinaryLabelDatasetMetric(\n",
    "        binaryLabelDataset_train,\n",
    "        unprivileged_groups=[{\"age_groups\": 0}],\n",
    "        privileged_groups=[{\"age_groups\": 1}],\n",
    "    ).disparate_impact()\n",
    ")"
   ]
  },
  {
   "cell_type": "markdown",
   "metadata": {},
   "source": [
    "Now, use the AIF360 `DisparateImpactRemover`."
   ]
  },
  {
   "cell_type": "code",
   "execution_count": 18,
   "metadata": {},
   "outputs": [],
   "source": [
    "# Initialize DisparateImpactRemover\n",
    "di_remover = DisparateImpactRemover(repair_level=0.5)\n",
    "\n",
    "# Create transformed version (DI removed)\n",
    "binaryLabelDataset_transform_train = di_remover.fit_transform(binaryLabelDataset_train)\n",
    "\n",
    "# Convert back to dataframe\n",
    "df_transform_train = binaryLabelDataset_transform_train.convert_to_dataframe()[0]"
   ]
  },
  {
   "cell_type": "markdown",
   "metadata": {},
   "source": [
    "You can check that the transformation changed only the features, but not the labels by calculating the DI metric for the transformed dataset. The value will match what you had previously."
   ]
  },
  {
   "cell_type": "code",
   "execution_count": 19,
   "metadata": {
    "tags": []
   },
   "outputs": [
    {
     "name": "stdout",
     "output_type": "stream",
     "text": [
      "0.8371212121212122\n"
     ]
    }
   ],
   "source": [
    "# Check pre-training bias for transformed dataset\n",
    "print(\n",
    "    BinaryLabelDatasetMetric(\n",
    "        binaryLabelDataset_transform_train,\n",
    "        unprivileged_groups=[{\"age_groups\": 0}],\n",
    "        privileged_groups=[{\"age_groups\": 1}],\n",
    "    ).disparate_impact()\n",
    ")"
   ]
  },
  {
   "cell_type": "markdown",
   "metadata": {},
   "source": [
    "To visualize the transformation let's have a look at how the distribution of one of the numerical features changed."
   ]
  },
  {
   "cell_type": "code",
   "execution_count": 20,
   "metadata": {},
   "outputs": [
    {
     "data": {
      "image/png": "[encoded data removed]",
      "text/plain": [
       "<Figure size 1600x600 with 2 Axes>"
      ]
     },
     "metadata": {},
     "output_type": "display_data"
    }
   ],
   "source": [
    "%matplotlib inline\n",
    "\n",
    "# Initialize figure\n",
    "fig, (ax1, ax2) = plt.subplots(1, 2, figsize=(16, 6))\n",
    "\n",
    "# Set title of figure\n",
    "fig.suptitle(\"Comparison of Feature before and after Transformation\")\n",
    "\n",
    "# Set title\n",
    "ax1.title.set_text(\"Normal (scaled) distribution\")\n",
    "ax2.title.set_text(\"Transformed distribution\")\n",
    "\n",
    "# Create plots\n",
    "sns.histplot(train_df, x=\"credit_amount\", hue=\"age_groups\", ax=ax1)\n",
    "sns.histplot(df_transform_train, x=\"credit_amount\", hue=\"age_groups\", ax=ax2)\n",
    "plt.show()"
   ]
  },
  {
   "cell_type": "markdown",
   "metadata": {},
   "source": [
    "Finally, apply the DI transformation to the test data too. If you wanted to try different DI repair values, you could add a section before this one th at uses that validation dataset."
   ]
  },
  {
   "cell_type": "code",
   "execution_count": 21,
   "metadata": {},
   "outputs": [],
   "source": [
    "# Convert the sparse matrix to a pandas dataframe and name columns\n",
    "processed_test_df = pd.DataFrame.sparse.from_spmatrix(\n",
    "    processed_test, columns=numerical_features + cat_ft_names\n",
    ")\n",
    "\n",
    "# Repeat for test data\n",
    "test_df = pd.concat(\n",
    "    [\n",
    "        processed_test_df,\n",
    "        pd.read_csv(\"../../data/final_project/german_credit_test_labels.csv\")[\n",
    "            \"credit_risk\"\n",
    "        ],\n",
    "    ],\n",
    "    axis=1,\n",
    ")\n",
    "\n",
    "# Create a Dataset construct for AIF360\n",
    "binaryLabelDataset_test = BinaryLabelDataset(\n",
    "    df=test_df,\n",
    "    label_names=[\"credit_risk\"],\n",
    "    protected_attribute_names=[\"age_groups\"],\n",
    "    favorable_label=0.0,\n",
    "    unfavorable_label=1.0,\n",
    ")\n",
    "\n",
    "# Create transformed version (DI removed)\n",
    "binaryLabelDataset_transform_test = di_remover.fit_transform(binaryLabelDataset_test)\n",
    "\n",
    "# Convert back to dataframe\n",
    "df_transform_test = binaryLabelDataset_transform_test.convert_to_dataframe()[0].drop(\n",
    "    \"credit_risk\", axis=1\n",
    ")"
   ]
  },
  {
   "cell_type": "markdown",
   "metadata": {},
   "source": [
    "#### 2.4.2 Reweighing\n",
    "\n",
    "Alternatively if you want to build the model with reweighing, you can use the custom function below and then apply the weights during the training stage."
   ]
  },
  {
   "cell_type": "code",
   "execution_count": 22,
   "metadata": {
    "tags": []
   },
   "outputs": [],
   "source": [
    "def reweighing(data, label, sensitive_attr, return_list=True):\n",
    "    label_dict = dict()\n",
    "    try:\n",
    "        # This will loop through the different labels (1 - awarded grant, 0 - not awarded)\n",
    "        for outcome in data[label].unique():\n",
    "            weight_map = dict()\n",
    "            # Check for all possible groups (here we have A & B but there could be more in reality)\n",
    "            for val in data[sensitive_attr].unique():\n",
    "                # Calculate the probabilities\n",
    "                nom = (\n",
    "                    len(data[data[sensitive_attr] == val])\n",
    "                    / len(data)\n",
    "                    * len(data[data[label] == outcome])\n",
    "                    / len(data)\n",
    "                )\n",
    "                denom = len(\n",
    "                    data[(data[sensitive_attr] == val) & (data[label] == outcome)]\n",
    "                ) / len(data)\n",
    "                # Store weights according to sensitive attribute\n",
    "                weight_map[val] = round(nom / denom, 2)\n",
    "            # Store\n",
    "            label_dict[outcome] = weight_map\n",
    "        # Create full list of all weights for every data point provided as input\n",
    "        data[\"weights\"] = list(\n",
    "            map(lambda x, y: label_dict[y][x], data[sensitive_attr], data[label])\n",
    "        )\n",
    "        if return_list == True:\n",
    "            return data[\"weights\"].to_list()\n",
    "        else:\n",
    "            return label_dict\n",
    "    except Exception as err:\n",
    "        print(err)\n",
    "        print(\"Dataframe might have no entries.\")\n",
    "\n",
    "\n",
    "reweigh_dict = reweighing(train_data, \"credit_risk\", \"age_groups\", False)"
   ]
  },
  {
   "cell_type": "markdown",
   "metadata": {},
   "source": [
    "## 3. <a name=\"3\">Train a Classifier</a> (Implement)\n",
    "(<a href=\"#0\">Go to top</a>)\n",
    "\n",
    "Train the [LogisticRegression](https://scikit-learn.org/stable/modules/generated/sklearn.linear_model.LogisticRegression.html) pipeline."
   ]
  },
  {
   "cell_type": "code",
   "execution_count": 23,
   "metadata": {
    "tags": []
   },
   "outputs": [],
   "source": [
    "# Implement here"
   ]
  },
  {
   "cell_type": "code",
   "execution_count": 24,
   "metadata": {
    "tags": []
   },
   "outputs": [],
   "source": [
    "# Training the model with re-weighting\n",
    "\n",
    "# Get train data to train the classifier\n",
    "X_train = processed_train_df.drop([\"age_groups\"], axis=1)\n",
    "y_train = train_data[model_target]\n",
    "\n",
    "# Fit the classifier to the train data\n",
    "train_sample_weights = list(\n",
    "    map(\n",
    "        lambda x, y: reweigh_dict[y][x],\n",
    "        train_df[\"age_groups\"],\n",
    "        train_df[model_target],\n",
    "    )\n",
    ")\n",
    "\n",
    "# Initialize the LR\n",
    "lr_rw = LogisticRegression(solver=\"liblinear\")\n",
    "\n",
    "# Make sure to add the sample weights\n",
    "rw_model = lr_rw.fit(X_train, y_train.ravel(), sample_weight=train_sample_weights)"
   ]
  },
  {
   "cell_type": "code",
   "execution_count": 25,
   "metadata": {
    "tags": []
   },
   "outputs": [],
   "source": [
    "# Training the model with disparate impact remover\n",
    "\n",
    "# Get train data to train the classifier\n",
    "X_train_transform = df_transform_train.drop([model_target, \"age_groups\"], axis=1)\n",
    "y_train = train_data[model_target]\n",
    "\n",
    "# Initialize the LR\n",
    "lr_di = LogisticRegression(solver=\"liblinear\")\n",
    "\n",
    "# Fit the classifier to the transformed data\n",
    "di_model = lr_di.fit(X_train_transform, y_train.ravel())"
   ]
  },
  {
   "cell_type": "markdown",
   "metadata": {},
   "source": [
    "## 4. <a name=\"4\">Make Predictions on the Test Dataset</a> (Implement)\n",
    "(<a href=\"#0\">Go to top</a>)\n",
    "\n",
    "Use the trained classifier to predict the labels on the test set. Below you will find a code snippet that evaluates for DI."
   ]
  },
  {
   "cell_type": "code",
   "execution_count": 26,
   "metadata": {
    "tags": []
   },
   "outputs": [],
   "source": [
    "# Implement here\n",
    "\n",
    "# Get test data to test the classifier\n",
    "# ! test data should come from german_credit_test.csv !\n",
    "# ...\n",
    "\n",
    "# Use the trained model to make predictions on the test dataset\n",
    "# test_predictions = ..."
   ]
  },
  {
   "cell_type": "code",
   "execution_count": 27,
   "metadata": {
    "tags": []
   },
   "outputs": [],
   "source": [
    "# Get test data to validate the classifier\n",
    "X_test = processed_test_df.drop([\"age_groups\"], axis=1).copy(deep=True)\n",
    "X_test_di = df_transform_test.drop([\"age_groups\"], axis=1).copy(deep=True)\n",
    "\n",
    "# Use the fitted model to make predictions on the test dataset\n",
    "test_predictions_rw = di_model.predict(X_test)\n",
    "\n",
    "# Use the fitted model to make predictions on the test dataset\n",
    "test_predictions_di = rw_model.predict(X_test_di)"
   ]
  },
  {
   "cell_type": "markdown",
   "metadata": {},
   "source": [
    "Decide which prediction you want to evaluate and assign to `test_predictions`."
   ]
  },
  {
   "cell_type": "code",
   "execution_count": 28,
   "metadata": {},
   "outputs": [],
   "source": [
    "test_predictions = test_predictions_di"
   ]
  },
  {
   "cell_type": "markdown",
   "metadata": {},
   "source": [
    "## 5. <a name=\"5\">Evaluate Results</a> (Given)\n",
    "(<a href=\"#0\">Go to top</a>)"
   ]
  },
  {
   "cell_type": "code",
   "execution_count": 29,
   "metadata": {
    "tags": []
   },
   "outputs": [],
   "source": [
    "result_df = pd.DataFrame(columns=[\"ID\", \"credit_risk_pred\"])\n",
    "result_df[\"ID\"] = test_data[\"ID\"].tolist()\n",
    "result_df[\"credit_risk_pred\"] = test_predictions\n",
    "\n",
    "result_df.to_csv(\"../../data/final_project/project_day2_result.csv\", index=False)"
   ]
  },
  {
   "cell_type": "markdown",
   "metadata": {},
   "source": [
    "### Final Evaluation on Test Data - Disparate Impact\n",
    "To evaluate the fairness of the model predictions, we will calculate the disparate impact (DI) metric. For more details about DI you can have a look [here](https://docs.aws.amazon.com/sagemaker/latest/dg/clarify-post-training-bias-metric-di.html)."
   ]
  },
  {
   "cell_type": "code",
   "execution_count": 30,
   "metadata": {
    "tags": []
   },
   "outputs": [],
   "source": [
    "def calculate_di(test_data, pred_df, pred_col=\"credit_risk_pred\"):\n",
    "    \"\"\"\n",
    "    Function to calculate Disparate Impact metric using the results from this notebook.\n",
    "    \"\"\"\n",
    "    try:\n",
    "        # Merge predictions with original test data to model per group\n",
    "        di_df = pred_df.merge(test_data, on=\"ID\")\n",
    "        # Count for group with members less than 25y old\n",
    "        pos_outcomes_less25 = di_df[di_df[\"age_groups\"] == 0][pred_col].value_counts()[\n",
    "            0\n",
    "        ]  # value_counts()[0] takes the count of the '0 credit risk' == 'not credit risk'\n",
    "        total_less25 = len(di_df[di_df[\"age_groups\"] == 0])\n",
    "        # Count for group with members greater equal 25y old\n",
    "        pos_outcomes_geq25 = di_df[di_df[\"age_groups\"] == 1][pred_col].value_counts()[\n",
    "            0\n",
    "        ]  # value_counts()[0] takes the count of the '0 credit risk' == 'not credit risk'\n",
    "        total_geq25 = len(di_df[di_df[\"age_groups\"] == 1])\n",
    "        # Check if correct number of gorups\n",
    "        if total_geq25 == 0:\n",
    "            print(\"There is only one group present in the data.\")\n",
    "        elif total_less25 == 0:\n",
    "            print(\"There is only one group present in the data.\")\n",
    "        else:\n",
    "            disparate_impact = (pos_outcomes_less25 / total_less25) / (\n",
    "                pos_outcomes_geq25 / total_geq25\n",
    "            )\n",
    "            return disparate_impact\n",
    "    except:\n",
    "        print(\"Wrong inputs provided.\")"
   ]
  },
  {
   "cell_type": "code",
   "execution_count": 31,
   "metadata": {
    "tags": []
   },
   "outputs": [
    {
     "data": {
      "text/plain": [
       "0.7338129496402878"
      ]
     },
     "execution_count": 31,
     "metadata": {},
     "output_type": "execute_result"
    }
   ],
   "source": [
    "calculate_di(test_data, result_df, \"credit_risk_pred\")"
   ]
  },
  {
   "cell_type": "markdown",
   "metadata": {},
   "source": [
    "### Final Evaluation on Test Data - Accuracy & F1 Score\n",
    "In addition to fairness evaluation, we also need to check the general model performance. During the EDA stage we learned that the target distribution is skewed so we will use F1 score in addition to accuracy."
   ]
  },
  {
   "cell_type": "code",
   "execution_count": 32,
   "metadata": {
    "tags": []
   },
   "outputs": [
    {
     "data": {
      "text/plain": [
       "0.785"
      ]
     },
     "execution_count": 32,
     "metadata": {},
     "output_type": "execute_result"
    }
   ],
   "source": [
    "accuracy_score(\n",
    "    pd.read_csv(\"../../data/final_project/german_credit_test_labels.csv\")[\n",
    "        \"credit_risk\"\n",
    "    ],\n",
    "    result_df[\"credit_risk_pred\"],\n",
    ")"
   ]
  },
  {
   "cell_type": "code",
   "execution_count": 33,
   "metadata": {
    "tags": []
   },
   "outputs": [
    {
     "data": {
      "text/plain": [
       "0.5825242718446603"
      ]
     },
     "execution_count": 33,
     "metadata": {},
     "output_type": "execute_result"
    }
   ],
   "source": [
    "f1_score(\n",
    "    pd.read_csv(\"../../data/final_project/german_credit_test_labels.csv\")[\n",
    "        \"credit_risk\"\n",
    "    ],\n",
    "    result_df[\"credit_risk_pred\"],\n",
    ")"
   ]
  },
  {
   "cell_type": "markdown",
   "metadata": {},
   "source": [
    "This is the end of the notebook."
   ]
  }
 ],
 "metadata": {
  "kernelspec": {
   "display_name": "conda_pytorch_p39",
   "language": "python",
   "name": "conda_pytorch_p39"
  },
  "language_info": {
   "codemirror_mode": {
    "name": "ipython",
    "version": 3
   },
   "file_extension": ".py",
   "mimetype": "text/x-python",
   "name": "python",
   "nbconvert_exporter": "python",
   "pygments_lexer": "ipython3",
   "version": "3.9.15"
  }
 },
 "nbformat": 4,
 "nbformat_minor": 4
}
