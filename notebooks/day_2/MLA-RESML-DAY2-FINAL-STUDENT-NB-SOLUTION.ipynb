{
 "cells": [
  {
   "cell_type": "markdown",
   "metadata": {},
   "source": [
    "![MLU Logo](../../data/MLU_Logo.png)"
   ]
  },
  {
   "cell_type": "markdown",
   "metadata": {},
   "source": [
    "# <a name=\"0\">Responsible AI - Final Project Solution</a>\n",
    "\n",
    "Build a fair [LogisticRegression](https://scikit-learn.org/stable/modules/generated/sklearn.linear_model.LogisticRegression.html) that predicts the __credit_risk__ field (whether some is a credit risk or not) of the [German Credit Dataset](https://archive.ics.uci.edu/ml/datasets/South+German+Credit+%28UPDATE%29).\n",
    "\n",
    "### Final Project Problem: Loan Approval\n",
    "\n",
    "__Problem Definition:__\n",
    "Given a set of features about an individual (e.g. age, past credit history, immigration status, ...) predict whether a loan is repaid or not (is customer a credit risk). We impose the additional constraint that the model should be fair with respect to different age groups ($\\geq$ 25 yrs and $<$ 25 yrs).\n",
    "\n",
    "In the banking industry, there are certain regulations regarding the use of sensitive features (e.g., age, ethnicity, marital status, ...). According to those regulations, it would not be okay if age played a significant role in the model (loans should be approved/denied regardless of an individuals' age).\n",
    "\n",
    "\n",
    "``` \n",
    "F. Kamiran and T. Calders, \"Data Preprocessing Techniques for Classification without Discrimination,\" Knowledge and Information Systems, 2012\n",
    "```\n",
    "\n",
    "1. <a href=\"#1\">Read the datasets</a> (Given) \n",
    "2. <a href=\"#2\">Data Processing</a> (Implement)\n",
    "    * <a href=\"#21\">Exploratory Data Analysis</a>\n",
    "    * <a href=\"#22\">Select features to build the model</a> (Suggested)\n",
    "    * <a href=\"#23\">Train - Validation - Test Datasets</a>\n",
    "    * <a href=\"#24\">Feature transformation</a>\n",
    "3. <a href=\"#3\">Train a Classifier on the Training Dataset</a> (Implement)\n",
    "4. <a href=\"#4\">Make Predictions on the Test Dataset</a> (Implement)\n",
    "5. <a href=\"#5\">Evaluate Results</a> (Given)\n",
    "\n",
    "\n",
    "__Datasets and Files:__\n",
    "\n",
    "\n",
    "- ```german_credit_training.csv```: Training data with loan applicants features, credit history, dependents, savings, account status, age group (and more). The label is __credit_risk__.\n",
    "\n",
    "- ```german_credit_test.csv```: Test data with same features as above apart from label. This will be the data to make predictions for to emulate a production environment."
   ]
  },
  {
   "cell_type": "markdown",
   "metadata": {},
   "source": [
    "This notebook assumes an installation of the SageMaker kernel `.conda-mlu-rai:Python` through the `environment.yaml` file in SageMaker Sudio Labs."
   ]
  },
  {
   "cell_type": "code",
   "execution_count": null,
   "metadata": {
    "tags": []
   },
   "outputs": [],
   "source": [
    "%%capture\n",
    "\n",
    "# Reshaping/basic libraries\n",
    "import pandas as pd\n",
    "import numpy as np\n",
    "\n",
    "# Plotting libraries\n",
    "import matplotlib.pyplot as plt\n",
    "import seaborn as sns\n",
    "\n",
    "sns.set_style(\"darkgrid\", {\"axes.facecolor\": \".9\"})\n",
    "\n",
    "# ML libraries\n",
    "from sklearn.model_selection import train_test_split\n",
    "from sklearn.metrics import confusion_matrix, accuracy_score, f1_score\n",
    "from sklearn.impute import SimpleImputer\n",
    "from sklearn.preprocessing import OneHotEncoder, MinMaxScaler\n",
    "from sklearn.pipeline import Pipeline\n",
    "from sklearn.compose import ColumnTransformer\n",
    "from sklearn.linear_model import LogisticRegression\n",
    "\n",
    "# Fairness libraries\n",
    "from folktables.acs import *\n",
    "from folktables.folktables import *\n",
    "from folktables.load_acs import *\n",
    "from aif360.datasets import BinaryLabelDataset, Dataset\n",
    "from aif360.metrics import BinaryLabelDatasetMetric\n",
    "from aif360.algorithms.preprocessing import DisparateImpactRemover\n",
    "\n",
    "# Operational libraries\n",
    "import sys\n",
    "\n",
    "sys.path.append(\"..\")\n",
    "\n",
    "# Jupyter(lab) libraries\n",
    "import warnings\n",
    "\n",
    "warnings.filterwarnings(\"ignore\")"
   ]
  },
  {
   "cell_type": "markdown",
   "metadata": {},
   "source": [
    "## 1. <a name=\"1\">Read the datasets</a> (Given)\n",
    "(<a href=\"#0\">Go to top</a>)"
   ]
  },
  {
   "cell_type": "markdown",
   "metadata": {},
   "source": [
    "Then, we read the __training__ and __test__ datasets into dataframes, using [Pandas](https://pandas.pydata.org/pandas-docs/stable/user_guide/10min.html). This library allows us to read and manipulate our data."
   ]
  },
  {
   "cell_type": "code",
   "execution_count": null,
   "metadata": {
    "tags": []
   },
   "outputs": [],
   "source": [
    "training_data = pd.read_csv(\"../../data/final_project/german_credit_training.csv\")\n",
    "test_data = pd.read_csv(\"../../data/final_project/german_credit_test.csv\")\n",
    "\n",
    "print(\"The shape of the training dataset is:\", training_data.shape)\n",
    "print(\"The shape of the test dataset is:\", test_data.shape)"
   ]
  },
  {
   "cell_type": "markdown",
   "metadata": {},
   "source": [
    "## 2. <a name=\"2\">Data Processing</a> (Implement)\n",
    "(<a href=\"#0\">Go to top</a>) "
   ]
  },
  {
   "cell_type": "markdown",
   "metadata": {},
   "source": [
    "### 2.1 <a name=\"21\">Exploratory Data Analysis</a>\n",
    "(<a href=\"#2\">Go to Data Processing</a>)\n",
    "\n",
    "We look at number of rows, columns, and some simple statistics of the datasets."
   ]
  },
  {
   "cell_type": "code",
   "execution_count": null,
   "metadata": {
    "tags": []
   },
   "outputs": [],
   "source": [
    "training_data.head()"
   ]
  },
  {
   "cell_type": "code",
   "execution_count": null,
   "metadata": {
    "tags": []
   },
   "outputs": [],
   "source": [
    "test_data.head()"
   ]
  },
  {
   "cell_type": "code",
   "execution_count": null,
   "metadata": {
    "tags": []
   },
   "outputs": [],
   "source": [
    "# Implement more EDA here"
   ]
  },
  {
   "cell_type": "code",
   "execution_count": null,
   "metadata": {
    "tags": []
   },
   "outputs": [],
   "source": [
    "training_data.info()"
   ]
  },
  {
   "cell_type": "markdown",
   "metadata": {},
   "source": [
    "### 2.2 <a name=\"22\">Select features to build the model</a> \n",
    "(<a href=\"#2\">Go to Data Processing</a>)\n",
    "\n",
    "Let's use all the features. Below you see a snippet of code that separates categorical and numerical columns based on their data type. This should only be used if we are sure that the data types are correctly assigned (check during EDA). Mindful with some of the feature names - they suggest numerical values but upon inspection it should become clear that they are actually categoricals (e.g. `employed_since_years` has been binned into groups).\n"
   ]
  },
  {
   "cell_type": "code",
   "execution_count": null,
   "metadata": {
    "tags": []
   },
   "outputs": [],
   "source": [
    "# Grab model features/inputs and target/output\n",
    "categorical_features = (\n",
    "    training_data.drop(\"credit_risk\", axis=1)\n",
    "    .select_dtypes(include=\"object\")\n",
    "    .columns.tolist()\n",
    ")\n",
    "print(\"Categorical columns:\", categorical_features)\n",
    "\n",
    "print(\"\")\n",
    "\n",
    "numerical_features = (\n",
    "    training_data.drop(\"credit_risk\", axis=1)\n",
    "    .select_dtypes(include=np.number)\n",
    "    .columns.tolist()\n",
    ")\n",
    "print(\"Numerical columns:\", numerical_features)"
   ]
  },
  {
   "cell_type": "markdown",
   "metadata": {},
   "source": [
    "We notice that `ID` is identified as numerical column. ID's should never be used as features for training as they are unique by row. Let's drop the ID from the model features after we have separated target and features:"
   ]
  },
  {
   "cell_type": "code",
   "execution_count": null,
   "metadata": {
    "tags": []
   },
   "outputs": [],
   "source": [
    "model_target = \"credit_risk\"\n",
    "model_features = categorical_features + numerical_features\n",
    "\n",
    "print(\"Model features: \", model_features)\n",
    "print(\"\\n\")\n",
    "print(\"Model target: \", model_target)"
   ]
  },
  {
   "cell_type": "code",
   "execution_count": null,
   "metadata": {
    "tags": []
   },
   "outputs": [],
   "source": [
    "to_remove = \"ID\"\n",
    "\n",
    "# Drop 'ID' feature from the respective list(s)\n",
    "if to_remove in model_features:\n",
    "    model_features.remove(to_remove)\n",
    "if to_remove in categorical_features:\n",
    "    categorical_features.remove(to_remove)\n",
    "if to_remove in numerical_features:\n",
    "    numerical_features.remove(to_remove)"
   ]
  },
  {
   "cell_type": "markdown",
   "metadata": {},
   "source": [
    "Let's also remove `age_years` as this is an obvious proxy for the age groups."
   ]
  },
  {
   "cell_type": "code",
   "execution_count": null,
   "metadata": {},
   "outputs": [],
   "source": [
    "to_remove = \"age_years\"\n",
    "\n",
    "# Drop 'ID' feature from the respective list(s)\n",
    "if to_remove in model_features:\n",
    "    model_features.remove(to_remove)\n",
    "if to_remove in categorical_features:\n",
    "    categorical_features.remove(to_remove)\n",
    "if to_remove in numerical_features:\n",
    "    numerical_features.remove(to_remove)"
   ]
  },
  {
   "cell_type": "markdown",
   "metadata": {},
   "source": [
    "### 2.3 <a name=\"23\">Train - Validation Datasets</a>\n",
    "(<a href=\"#2\">Go to Data Processing</a>)\n",
    "\n",
    "We already have training and test datasets, but no validation dataset (which you need to create). Furthermore, the test dataset is missing the labels - the goal of the project is to predict these labels. \n",
    "\n",
    "To produce a validation set to evaluate model performance, split the training dataset into train and validation subsets using sklearn's [train_test_split()](https://scikit-learn.org/stable/modules/generated/sklearn.model_selection.train_test_split.html) function. "
   ]
  },
  {
   "cell_type": "code",
   "execution_count": null,
   "metadata": {
    "tags": []
   },
   "outputs": [],
   "source": [
    "# Implement here"
   ]
  },
  {
   "cell_type": "code",
   "execution_count": null,
   "metadata": {
    "tags": []
   },
   "outputs": [],
   "source": [
    "# We only need to split between train and val (test is already separate)\n",
    "train_data, val_data = train_test_split(\n",
    "    training_data, test_size=0.1, shuffle=True, random_state=23\n",
    ")\n",
    "\n",
    "# Print the shapes of the Train - Test Datasets\n",
    "print(\n",
    "    \"Train - Test - Validation datasets shapes: \",\n",
    "    train_data.shape,\n",
    "    test_data.shape,\n",
    "    val_data.shape,\n",
    ")\n",
    "\n",
    "train_data.reset_index(inplace=True, drop=True)\n",
    "val_data.reset_index(inplace=True, drop=True)"
   ]
  },
  {
   "cell_type": "markdown",
   "metadata": {},
   "source": [
    "### 2.4 <a name=\"24\">Feature transformation</a>\n",
    "(<a href=\"#2\">Go to Data Processing</a>)\n",
    "\n",
    "Here, you have different options. You can use Reweighing, prepare for Disparate Impact Remover or use Suppression. Regardless of which method to use, it makes sense to prepare the data first by dealing with missing values, one-hot encoding and scaling."
   ]
  },
  {
   "cell_type": "code",
   "execution_count": null,
   "metadata": {
    "tags": []
   },
   "outputs": [],
   "source": [
    "### STEP 1 ###\n",
    "##############\n",
    "\n",
    "# Preprocess the numerical features\n",
    "numerical_processor = Pipeline(\n",
    "    [(\"num_imputer\", SimpleImputer(strategy=\"mean\")), (\"num_scaler\", MinMaxScaler())]\n",
    ")\n",
    "# Preprocess the categorical features\n",
    "categorical_processor = Pipeline(\n",
    "    [\n",
    "        (\"cat_imputer\", SimpleImputer(strategy=\"constant\", fill_value=\"missing\")),\n",
    "        (\"cat_encoder\", OneHotEncoder(handle_unknown=\"ignore\")),\n",
    "    ]\n",
    ")\n",
    "\n",
    "### STEP 2 ###\n",
    "##############\n",
    "\n",
    "# Combine all data preprocessors from above\n",
    "data_processor = ColumnTransformer(\n",
    "    [\n",
    "        (\"numerical_processing\", numerical_processor, numerical_features),\n",
    "        (\"categorical_processing\", categorical_processor, categorical_features),\n",
    "    ]\n",
    ")\n",
    "\n",
    "### STEP 3 ###\n",
    "##############\n",
    "\n",
    "# Fit the dataprocessor to our training data and apply transform to test data\n",
    "processed_train = data_processor.fit_transform(train_data[model_features])\n",
    "processed_test = data_processor.transform(test_data)"
   ]
  },
  {
   "cell_type": "markdown",
   "metadata": {},
   "source": [
    "#### 2.4.1 DI-Transformation\n",
    "\n",
    "The dataframe you just created will not have any column names for the one-hot encoded categorical features and will also be saved as sparse matrix. If you want to proceed with DI transformation, you need to convert the sparse matrix back to a data frame and also re-create the column names."
   ]
  },
  {
   "cell_type": "code",
   "execution_count": null,
   "metadata": {},
   "outputs": [],
   "source": [
    "# Implement here"
   ]
  },
  {
   "cell_type": "code",
   "execution_count": null,
   "metadata": {
    "tags": []
   },
   "outputs": [],
   "source": [
    "# Extract feature names from data processor (we need this as one-hot encoding creates new columns)\n",
    "cat_ft_names = list(\n",
    "    data_processor.transformers_[1][1]\n",
    "    .named_steps[\"cat_encoder\"]\n",
    "    .get_feature_names_out(categorical_features)\n",
    ")\n",
    "\n",
    "# Convert the sparse matrix to a pandas dataframe and name columns\n",
    "processed_train_df = pd.DataFrame.sparse.from_spmatrix(\n",
    "    processed_train, columns=numerical_features + cat_ft_names\n",
    ")\n",
    "\n",
    "# Join label with the transformed dataset so we can pass it to AIF360\n",
    "train_df = pd.concat([processed_train_df, train_data[model_target]], axis=1)"
   ]
  },
  {
   "cell_type": "markdown",
   "metadata": {},
   "source": [
    "As final step for DI transformation you have to create a `BinaryLabelDataset` and also check the DI value of the dataset."
   ]
  },
  {
   "cell_type": "code",
   "execution_count": null,
   "metadata": {
    "tags": []
   },
   "outputs": [],
   "source": [
    "# Create a Dataset construct for AIF360\n",
    "binaryLabelDataset_train = BinaryLabelDataset(\n",
    "    df=train_df,\n",
    "    label_names=[\"credit_risk\"],\n",
    "    protected_attribute_names=[\"age_groups\"],\n",
    "    favorable_label=0.0,\n",
    "    unfavorable_label=1.0,\n",
    ")\n",
    "\n",
    "# Check pre-training bias\n",
    "print(\n",
    "    BinaryLabelDatasetMetric(\n",
    "        binaryLabelDataset_train,\n",
    "        unprivileged_groups=[{\"age_groups\": 0}],\n",
    "        privileged_groups=[{\"age_groups\": 1}],\n",
    "    ).disparate_impact()\n",
    ")"
   ]
  },
  {
   "cell_type": "markdown",
   "metadata": {},
   "source": [
    "Now, use the AIF360 `DisparateImpactRemover`."
   ]
  },
  {
   "cell_type": "code",
   "execution_count": null,
   "metadata": {},
   "outputs": [],
   "source": [
    "# Initialize DisparateImpactRemover\n",
    "di_remover = DisparateImpactRemover(repair_level=0.5)\n",
    "\n",
    "# Create transformed version (DI removed)\n",
    "binaryLabelDataset_transform_train = di_remover.fit_transform(binaryLabelDataset_train)\n",
    "\n",
    "# Convert back to dataframe\n",
    "df_transform_train = binaryLabelDataset_transform_train.convert_to_dataframe()[0]"
   ]
  },
  {
   "cell_type": "markdown",
   "metadata": {},
   "source": [
    "You can check that the transformation changed only the features, but not the labels by calculating the DI metric for the transformed dataset. The value will match what you had previously."
   ]
  },
  {
   "cell_type": "code",
   "execution_count": null,
   "metadata": {
    "tags": []
   },
   "outputs": [],
   "source": [
    "# Check pre-training bias for transformed dataset\n",
    "print(\n",
    "    BinaryLabelDatasetMetric(\n",
    "        binaryLabelDataset_transform_train,\n",
    "        unprivileged_groups=[{\"age_groups\": 0}],\n",
    "        privileged_groups=[{\"age_groups\": 1}],\n",
    "    ).disparate_impact()\n",
    ")"
   ]
  },
  {
   "cell_type": "markdown",
   "metadata": {},
   "source": [
    "To visualize the transformation let's have a look at how the distribution of one of the numerical features changed."
   ]
  },
  {
   "cell_type": "code",
   "execution_count": null,
   "metadata": {},
   "outputs": [],
   "source": [
    "%matplotlib inline\n",
    "\n",
    "# Initialize figure\n",
    "fig, (ax1, ax2) = plt.subplots(1, 2, figsize=(16, 6))\n",
    "\n",
    "# Set title of figure\n",
    "fig.suptitle(\"Comparison of Feature before and after Transformation\")\n",
    "\n",
    "# Set title\n",
    "ax1.title.set_text(\"Normal (scaled) distribution\")\n",
    "ax2.title.set_text(\"Transformed distribution\")\n",
    "\n",
    "# Create plots\n",
    "sns.histplot(train_df, x=\"credit_amount\", hue=\"age_groups\", ax=ax1)\n",
    "sns.histplot(df_transform_train, x=\"credit_amount\", hue=\"age_groups\", ax=ax2)\n",
    "plt.show()"
   ]
  },
  {
   "cell_type": "markdown",
   "metadata": {},
   "source": [
    "Finally, apply the DI transformation to the test data too. If you wanted to try different DI repair values, you could add a section before this one th at uses that validation dataset."
   ]
  },
  {
   "cell_type": "code",
   "execution_count": null,
   "metadata": {},
   "outputs": [],
   "source": [
    "# Convert the sparse matrix to a pandas dataframe and name columns\n",
    "processed_test_df = pd.DataFrame.sparse.from_spmatrix(\n",
    "    processed_test, columns=numerical_features + cat_ft_names\n",
    ")\n",
    "\n",
    "# Repeat for test data\n",
    "test_df = pd.concat(\n",
    "    [\n",
    "        processed_test_df,\n",
    "        pd.read_csv(\"../../data/final_project/german_credit_test_labels.csv\")[\n",
    "            \"credit_risk\"\n",
    "        ],\n",
    "    ],\n",
    "    axis=1,\n",
    ")\n",
    "\n",
    "# Create a Dataset construct for AIF360\n",
    "binaryLabelDataset_test = BinaryLabelDataset(\n",
    "    df=test_df,\n",
    "    label_names=[\"credit_risk\"],\n",
    "    protected_attribute_names=[\"age_groups\"],\n",
    "    favorable_label=0.0,\n",
    "    unfavorable_label=1.0,\n",
    ")\n",
    "\n",
    "# Create transformed version (DI removed)\n",
    "binaryLabelDataset_transform_test = di_remover.fit_transform(binaryLabelDataset_test)\n",
    "\n",
    "# Convert back to dataframe\n",
    "df_transform_test = binaryLabelDataset_transform_test.convert_to_dataframe()[0].drop(\n",
    "    \"credit_risk\", axis=1\n",
    ")"
   ]
  },
  {
   "cell_type": "markdown",
   "metadata": {},
   "source": [
    "#### 2.4.2 Reweighing\n",
    "\n",
    "Alternatively if you want to build the model with reweighing, you can use the custom function below and then apply the weights during the training stage."
   ]
  },
  {
   "cell_type": "code",
   "execution_count": null,
   "metadata": {
    "tags": []
   },
   "outputs": [],
   "source": [
    "def reweighing(data, label, sensitive_attr, return_list=True):\n",
    "    label_dict = dict()\n",
    "    try:\n",
    "        # This will loop through the different labels (1 - awarded grant, 0 - not awarded)\n",
    "        for outcome in data[label].unique():\n",
    "            weight_map = dict()\n",
    "            # Check for all possible groups (here we have A & B but there could be more in reality)\n",
    "            for val in data[sensitive_attr].unique():\n",
    "                # Calculate the probabilities\n",
    "                nom = (\n",
    "                    len(data[data[sensitive_attr] == val])\n",
    "                    / len(data)\n",
    "                    * len(data[data[label] == outcome])\n",
    "                    / len(data)\n",
    "                )\n",
    "                denom = len(\n",
    "                    data[(data[sensitive_attr] == val) & (data[label] == outcome)]\n",
    "                ) / len(data)\n",
    "                # Store weights according to sensitive attribute\n",
    "                weight_map[val] = round(nom / denom, 2)\n",
    "            # Store\n",
    "            label_dict[outcome] = weight_map\n",
    "        # Create full list of all weights for every data point provided as input\n",
    "        data[\"weights\"] = list(\n",
    "            map(lambda x, y: label_dict[y][x], data[sensitive_attr], data[label])\n",
    "        )\n",
    "        if return_list == True:\n",
    "            return data[\"weights\"].to_list()\n",
    "        else:\n",
    "            return label_dict\n",
    "    except Exception as err:\n",
    "        print(err)\n",
    "        print(\"Dataframe might have no entries.\")"
   ]
  },
  {
   "cell_type": "code",
   "execution_count": null,
   "metadata": {},
   "outputs": [],
   "source": [
    "# Implement here"
   ]
  },
  {
   "cell_type": "code",
   "execution_count": null,
   "metadata": {},
   "outputs": [],
   "source": [
    "reweigh_dict = reweighing(train_data, \"credit_risk\", \"age_groups\", False)"
   ]
  },
  {
   "cell_type": "markdown",
   "metadata": {},
   "source": [
    "## 3. <a name=\"3\">Train a Classifier</a> (Implement)\n",
    "(<a href=\"#0\">Go to top</a>)\n",
    "\n",
    "Train the [LogisticRegression](https://scikit-learn.org/stable/modules/generated/sklearn.linear_model.LogisticRegression.html) pipeline."
   ]
  },
  {
   "cell_type": "code",
   "execution_count": null,
   "metadata": {
    "tags": []
   },
   "outputs": [],
   "source": [
    "# Implement here"
   ]
  },
  {
   "cell_type": "code",
   "execution_count": null,
   "metadata": {
    "tags": []
   },
   "outputs": [],
   "source": [
    "# Training the model with re-weighting\n",
    "\n",
    "# Get train data to train the classifier\n",
    "X_train = processed_train_df.drop([\"age_groups\"], axis=1)\n",
    "y_train = train_data[model_target]\n",
    "\n",
    "# Fit the classifier to the train data\n",
    "train_sample_weights = list(\n",
    "    map(\n",
    "        lambda x, y: reweigh_dict[y][x],\n",
    "        train_df[\"age_groups\"],\n",
    "        train_df[model_target],\n",
    "    )\n",
    ")\n",
    "\n",
    "# Initialize the LR\n",
    "lr_rw = LogisticRegression(solver=\"liblinear\")\n",
    "\n",
    "# Make sure to add the sample weights\n",
    "rw_model = lr_rw.fit(X_train, y_train.ravel(), sample_weight=train_sample_weights)"
   ]
  },
  {
   "cell_type": "code",
   "execution_count": null,
   "metadata": {
    "tags": []
   },
   "outputs": [],
   "source": [
    "# Training the model with disparate impact remover\n",
    "\n",
    "# Get train data to train the classifier\n",
    "X_train_transform = df_transform_train.drop([model_target, \"age_groups\"], axis=1)\n",
    "y_train = train_data[model_target]\n",
    "\n",
    "# Initialize the LR\n",
    "lr_di = LogisticRegression(solver=\"liblinear\")\n",
    "\n",
    "# Fit the classifier to the transformed data\n",
    "di_model = lr_di.fit(X_train_transform, y_train.ravel())"
   ]
  },
  {
   "cell_type": "markdown",
   "metadata": {},
   "source": [
    "## 4. <a name=\"4\">Make Predictions on the Test Dataset</a> (Implement)\n",
    "(<a href=\"#0\">Go to top</a>)\n",
    "\n",
    "Use the trained classifier to predict the labels on the test set. Below you will find a code snippet that evaluates for DI."
   ]
  },
  {
   "cell_type": "code",
   "execution_count": null,
   "metadata": {
    "tags": []
   },
   "outputs": [],
   "source": [
    "# Implement here\n",
    "\n",
    "# Get test data to test the classifier\n",
    "# ! test data should come from german_credit_test.csv !\n",
    "# ...\n",
    "\n",
    "# Use the trained model to make predictions on the test dataset\n",
    "# test_predictions = ..."
   ]
  },
  {
   "cell_type": "code",
   "execution_count": null,
   "metadata": {
    "tags": []
   },
   "outputs": [],
   "source": [
    "# Get test data to validate the classifier\n",
    "X_test = processed_test_df.drop([\"age_groups\"], axis=1).copy(deep=True)\n",
    "X_test_di = df_transform_test.drop([\"age_groups\"], axis=1).copy(deep=True)\n",
    "\n",
    "# Use the fitted model to make predictions on the test dataset\n",
    "test_predictions_rw = di_model.predict(X_test)\n",
    "\n",
    "# Use the fitted model to make predictions on the test dataset\n",
    "test_predictions_di = rw_model.predict(X_test_di)"
   ]
  },
  {
   "cell_type": "markdown",
   "metadata": {},
   "source": [
    "Decide which prediction you want to evaluate and assign to `test_predictions`."
   ]
  },
  {
   "cell_type": "code",
   "execution_count": null,
   "metadata": {},
   "outputs": [],
   "source": [
    "test_predictions = test_predictions_di"
   ]
  },
  {
   "cell_type": "markdown",
   "metadata": {},
   "source": [
    "## 5. <a name=\"5\">Evaluate Results</a> (Given)\n",
    "(<a href=\"#0\">Go to top</a>)"
   ]
  },
  {
   "cell_type": "code",
   "execution_count": null,
   "metadata": {
    "tags": []
   },
   "outputs": [],
   "source": [
    "result_df = pd.DataFrame(columns=[\"ID\", \"credit_risk_pred\"])\n",
    "result_df[\"ID\"] = test_data[\"ID\"].tolist()\n",
    "result_df[\"credit_risk_pred\"] = test_predictions\n",
    "\n",
    "result_df.to_csv(\"../../data/final_project/project_day2_result.csv\", index=False)"
   ]
  },
  {
   "cell_type": "markdown",
   "metadata": {},
   "source": [
    "### Final Evaluation on Test Data - Disparate Impact\n",
    "To evaluate the fairness of the model predictions, we will calculate the disparate impact (DI) metric. For more details about DI you can have a look [here](https://docs.aws.amazon.com/sagemaker/latest/dg/clarify-post-training-bias-metric-di.html)."
   ]
  },
  {
   "cell_type": "code",
   "execution_count": null,
   "metadata": {
    "tags": []
   },
   "outputs": [],
   "source": [
    "def calculate_di(test_data, pred_df, pred_col=\"credit_risk_pred\"):\n",
    "    \"\"\"\n",
    "    Function to calculate Disparate Impact metric using the results from this notebook.\n",
    "    \"\"\"\n",
    "    try:\n",
    "        # Merge predictions with original test data to model per group\n",
    "        di_df = pred_df.merge(test_data, on=\"ID\")\n",
    "        # Count for group with members less than 25y old\n",
    "        pos_outcomes_less25 = di_df[di_df[\"age_groups\"] == 0][pred_col].value_counts()[\n",
    "            0\n",
    "        ]  # value_counts()[0] takes the count of the '0 credit risk' == 'not credit risk'\n",
    "        total_less25 = len(di_df[di_df[\"age_groups\"] == 0])\n",
    "        # Count for group with members greater equal 25y old\n",
    "        pos_outcomes_geq25 = di_df[di_df[\"age_groups\"] == 1][pred_col].value_counts()[\n",
    "            0\n",
    "        ]  # value_counts()[0] takes the count of the '0 credit risk' == 'not credit risk'\n",
    "        total_geq25 = len(di_df[di_df[\"age_groups\"] == 1])\n",
    "        # Check if correct number of gorups\n",
    "        if total_geq25 == 0:\n",
    "            print(\"There is only one group present in the data.\")\n",
    "        elif total_less25 == 0:\n",
    "            print(\"There is only one group present in the data.\")\n",
    "        else:\n",
    "            disparate_impact = (pos_outcomes_less25 / total_less25) / (\n",
    "                pos_outcomes_geq25 / total_geq25\n",
    "            )\n",
    "            return disparate_impact\n",
    "    except:\n",
    "        print(\"Wrong inputs provided.\")"
   ]
  },
  {
   "cell_type": "code",
   "execution_count": null,
   "metadata": {
    "tags": []
   },
   "outputs": [],
   "source": [
    "calculate_di(test_data, result_df, \"credit_risk_pred\")"
   ]
  },
  {
   "cell_type": "markdown",
   "metadata": {},
   "source": [
    "### Final Evaluation on Test Data - Accuracy & F1 Score\n",
    "In addition to fairness evaluation, we also need to check the general model performance. During the EDA stage we learned that the target distribution is skewed so we will use F1 score in addition to accuracy."
   ]
  },
  {
   "cell_type": "code",
   "execution_count": null,
   "metadata": {
    "tags": []
   },
   "outputs": [],
   "source": [
    "accuracy_score(\n",
    "    pd.read_csv(\"../../data/final_project/german_credit_test_labels.csv\")[\n",
    "        \"credit_risk\"\n",
    "    ],\n",
    "    result_df[\"credit_risk_pred\"],\n",
    ")"
   ]
  },
  {
   "cell_type": "code",
   "execution_count": null,
   "metadata": {
    "tags": []
   },
   "outputs": [],
   "source": [
    "f1_score(\n",
    "    pd.read_csv(\"../../data/final_project/german_credit_test_labels.csv\")[\n",
    "        \"credit_risk\"\n",
    "    ],\n",
    "    result_df[\"credit_risk_pred\"],\n",
    ")"
   ]
  },
  {
   "cell_type": "markdown",
   "metadata": {},
   "source": [
    "This is the end of the notebook."
   ]
  }
 ],
 "metadata": {
  "kernelspec": {
   "display_name": ".conda-mlu-rai:Python",
   "language": "python",
   "name": "conda-env-.conda-mlu-rai-py"
  },
  "language_info": {
   "codemirror_mode": {
    "name": "ipython",
    "version": 3
   },
   "file_extension": ".py",
   "mimetype": "text/x-python",
   "name": "python",
   "nbconvert_exporter": "python",
   "pygments_lexer": "ipython3",
   "version": "3.9.20"
  }
 },
 "nbformat": 4,
 "nbformat_minor": 4
}
